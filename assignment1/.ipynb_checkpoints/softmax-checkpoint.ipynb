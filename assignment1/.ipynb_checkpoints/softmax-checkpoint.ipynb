{
 "cells": [
  {
   "cell_type": "markdown",
   "metadata": {},
   "source": [
    "# Softmax exercise\n",
    "\n",
    "*Complete and hand in this completed worksheet (including its outputs and any supporting code outside of the worksheet) with your assignment submission. For more details see the [assignments page](http://vision.stanford.edu/teaching/cs231n/assignments.html) on the course website.*\n",
    "\n",
    "This exercise is analogous to the SVM exercise. You will:\n",
    "\n",
    "- implement a fully-vectorized **loss function** for the Softmax classifier\n",
    "- implement the fully-vectorized expression for its **analytic gradient**\n",
    "- **check your implementation** with numerical gradient\n",
    "- use a validation set to **tune the learning rate and regularization** strength\n",
    "- **optimize** the loss function with **SGD**\n",
    "- **visualize** the final learned weights\n"
   ]
  },
  {
   "cell_type": "code",
   "execution_count": 1,
   "metadata": {
    "collapsed": false
   },
   "outputs": [],
   "source": [
    "import random\n",
    "import numpy as np\n",
    "from cs231n.data_utils import load_CIFAR10\n",
    "import matplotlib.pyplot as plt\n",
    "\n",
    "from __future__ import print_function\n",
    "\n",
    "%matplotlib inline\n",
    "plt.rcParams['figure.figsize'] = (10.0, 8.0) # set default size of plots\n",
    "plt.rcParams['image.interpolation'] = 'nearest'\n",
    "plt.rcParams['image.cmap'] = 'gray'\n",
    "\n",
    "# for auto-reloading extenrnal modules\n",
    "# see http://stackoverflow.com/questions/1907993/autoreload-of-modules-in-ipython\n",
    "%load_ext autoreload\n",
    "%autoreload 2"
   ]
  },
  {
   "cell_type": "code",
   "execution_count": 2,
   "metadata": {
    "collapsed": false
   },
   "outputs": [
    {
     "name": "stdout",
     "output_type": "stream",
     "text": [
      "Train data shape:  (49000, 3073)\n",
      "Train labels shape:  (49000,)\n",
      "Validation data shape:  (1000, 3073)\n",
      "Validation labels shape:  (1000,)\n",
      "Test data shape:  (1000, 3073)\n",
      "Test labels shape:  (1000,)\n",
      "dev data shape:  (500, 3073)\n",
      "dev labels shape:  (500,)\n"
     ]
    }
   ],
   "source": [
    "def get_CIFAR10_data(num_training=49000, num_validation=1000, num_test=1000, num_dev=500):\n",
    "    \"\"\"\n",
    "    Load the CIFAR-10 dataset from disk and perform preprocessing to prepare\n",
    "    it for the linear classifier. These are the same steps as we used for the\n",
    "    SVM, but condensed to a single function.  \n",
    "    \"\"\"\n",
    "    # Load the raw CIFAR-10 data\n",
    "    cifar10_dir = 'cs231n/datasets/cifar-10-batches-py'\n",
    "    X_train, y_train, X_test, y_test = load_CIFAR10(cifar10_dir)\n",
    "    \n",
    "    # subsample the data\n",
    "    mask = list(range(num_training, num_training + num_validation))\n",
    "    X_val = X_train[mask]\n",
    "    y_val = y_train[mask]\n",
    "    mask = list(range(num_training))\n",
    "    X_train = X_train[mask]\n",
    "    y_train = y_train[mask]\n",
    "    mask = list(range(num_test))\n",
    "    X_test = X_test[mask]\n",
    "    y_test = y_test[mask]\n",
    "    mask = np.random.choice(num_training, num_dev, replace=False)\n",
    "    X_dev = X_train[mask]\n",
    "    y_dev = y_train[mask]\n",
    "    \n",
    "    # Preprocessing: reshape the image data into rows\n",
    "    X_train = np.reshape(X_train, (X_train.shape[0], -1))\n",
    "    X_val = np.reshape(X_val, (X_val.shape[0], -1))\n",
    "    X_test = np.reshape(X_test, (X_test.shape[0], -1))\n",
    "    X_dev = np.reshape(X_dev, (X_dev.shape[0], -1))\n",
    "    \n",
    "    # Normalize the data: subtract the mean image\n",
    "    mean_image = np.mean(X_train, axis = 0)\n",
    "    X_train -= mean_image\n",
    "    X_val -= mean_image\n",
    "    X_test -= mean_image\n",
    "    X_dev -= mean_image\n",
    "    \n",
    "    # add bias dimension and transform into columns\n",
    "    X_train = np.hstack([X_train, np.ones((X_train.shape[0], 1))])\n",
    "    X_val = np.hstack([X_val, np.ones((X_val.shape[0], 1))])\n",
    "    X_test = np.hstack([X_test, np.ones((X_test.shape[0], 1))])\n",
    "    X_dev = np.hstack([X_dev, np.ones((X_dev.shape[0], 1))])\n",
    "    \n",
    "    return X_train, y_train, X_val, y_val, X_test, y_test, X_dev, y_dev\n",
    "\n",
    "\n",
    "# Invoke the above function to get our data.\n",
    "X_train, y_train, X_val, y_val, X_test, y_test, X_dev, y_dev = get_CIFAR10_data()\n",
    "print('Train data shape: ', X_train.shape)\n",
    "print('Train labels shape: ', y_train.shape)\n",
    "print('Validation data shape: ', X_val.shape)\n",
    "print('Validation labels shape: ', y_val.shape)\n",
    "print('Test data shape: ', X_test.shape)\n",
    "print('Test labels shape: ', y_test.shape)\n",
    "print('dev data shape: ', X_dev.shape)\n",
    "print('dev labels shape: ', y_dev.shape)"
   ]
  },
  {
   "cell_type": "markdown",
   "metadata": {},
   "source": [
    "## Softmax Classifier\n",
    "\n",
    "Your code for this section will all be written inside **cs231n/classifiers/softmax.py**. \n"
   ]
  },
  {
   "cell_type": "code",
   "execution_count": 11,
   "metadata": {
    "collapsed": false
   },
   "outputs": [
    {
     "name": "stdout",
     "output_type": "stream",
     "text": [
      "loss: 2.320343\n",
      "sanity check: 2.302585\n"
     ]
    }
   ],
   "source": [
    "# First implement the naive softmax loss function with nested loops.\n",
    "# Open the file cs231n/classifiers/softmax.py and implement the\n",
    "# softmax_loss_naive function.\n",
    "\n",
    "from cs231n.classifiers.softmax import softmax_loss_naive\n",
    "import time\n",
    "\n",
    "# Generate a random softmax weight matrix and use it to compute the loss.\n",
    "W = np.random.randn(3073, 10) * 0.0001\n",
    "loss, grad = softmax_loss_naive(W, X_dev, y_dev, 0.0)\n",
    "\n",
    "# As a rough sanity check, our loss should be something close to -log(0.1).\n",
    "print('loss: %f' % loss)\n",
    "print('sanity check: %f' % (-np.log(0.1)))"
   ]
  },
  {
   "cell_type": "markdown",
   "metadata": {},
   "source": [
    "## Inline Question 1:\n",
    "Why do we expect our loss to be close to -log(0.1)? Explain briefly.**\n",
    "\n",
    "**Your answer:** *Fill this in* Because we have 10 classes, the initial loss should be around -log(1 / C).\n"
   ]
  },
  {
   "cell_type": "code",
   "execution_count": 12,
   "metadata": {
    "collapsed": false
   },
   "outputs": [
    {
     "name": "stdout",
     "output_type": "stream",
     "text": [
      "numerical: 2.829512 analytic: 2.829512, relative error: 1.492399e-08\n",
      "numerical: -2.862392 analytic: -2.862392, relative error: 8.646826e-09\n",
      "numerical: 1.709433 analytic: 1.709433, relative error: 3.889549e-10\n",
      "numerical: 0.948077 analytic: 0.948077, relative error: 8.426465e-09\n",
      "numerical: 2.097299 analytic: 2.097299, relative error: 3.082468e-09\n",
      "numerical: 3.078568 analytic: 3.078567, relative error: 3.582253e-08\n",
      "numerical: -5.515805 analytic: -5.515805, relative error: 1.289920e-09\n",
      "numerical: 1.991056 analytic: 1.991056, relative error: 2.116205e-08\n",
      "numerical: 3.053727 analytic: 3.053727, relative error: 1.676615e-08\n",
      "numerical: -2.389405 analytic: -2.389405, relative error: 9.332638e-09\n",
      "numerical: -0.956949 analytic: -0.956949, relative error: 1.807624e-08\n",
      "numerical: 0.269865 analytic: 0.269865, relative error: 1.074247e-07\n",
      "numerical: -0.090344 analytic: -0.090344, relative error: 1.291399e-07\n",
      "numerical: 3.825406 analytic: 3.825406, relative error: 2.415167e-08\n",
      "numerical: -2.235407 analytic: -2.235407, relative error: 1.561707e-08\n",
      "numerical: 2.667024 analytic: 2.667024, relative error: 1.971203e-08\n",
      "numerical: 0.620365 analytic: 0.620365, relative error: 5.763036e-08\n",
      "numerical: -0.645235 analytic: -0.645235, relative error: 2.151371e-09\n",
      "numerical: -0.042346 analytic: -0.042346, relative error: 1.108159e-06\n",
      "numerical: -0.396189 analytic: -0.396189, relative error: 4.127150e-08\n"
     ]
    }
   ],
   "source": [
    "# Complete the implementation of softmax_loss_naive and implement a (naive)\n",
    "# version of the gradient that uses nested loops.\n",
    "loss, grad = softmax_loss_naive(W, X_dev, y_dev, 0.0)\n",
    "\n",
    "# As we did for the SVM, use numeric gradient checking as a debugging tool.\n",
    "# The numeric gradient should be close to the analytic gradient.\n",
    "from cs231n.gradient_check import grad_check_sparse\n",
    "f = lambda w: softmax_loss_naive(w, X_dev, y_dev, 0.0)[0]\n",
    "grad_numerical = grad_check_sparse(f, W, grad, 10)\n",
    "\n",
    "# similar to SVM case, do another gradient check with regularization\n",
    "loss, grad = softmax_loss_naive(W, X_dev, y_dev, 5e1)\n",
    "f = lambda w: softmax_loss_naive(w, X_dev, y_dev, 5e1)[0]\n",
    "grad_numerical = grad_check_sparse(f, W, grad, 10)"
   ]
  },
  {
   "cell_type": "code",
   "execution_count": 15,
   "metadata": {
    "collapsed": false
   },
   "outputs": [
    {
     "name": "stdout",
     "output_type": "stream",
     "text": [
      "naive loss: 2.320343e+00 computed in 0.244038s\n",
      "vectorized loss: 2.320343e+00 computed in 0.009823s\n",
      "Loss difference: 0.000000\n",
      "Gradient difference: 0.000000\n"
     ]
    }
   ],
   "source": [
    "# Now that we have a naive implementation of the softmax loss function and its gradient,\n",
    "# implement a vectorized version in softmax_loss_vectorized.\n",
    "# The two versions should compute the same results, but the vectorized version should be\n",
    "# much faster.\n",
    "tic = time.time()\n",
    "loss_naive, grad_naive = softmax_loss_naive(W, X_dev, y_dev, 0.000005)\n",
    "toc = time.time()\n",
    "print('naive loss: %e computed in %fs' % (loss_naive, toc - tic))\n",
    "\n",
    "from cs231n.classifiers.softmax import softmax_loss_vectorized\n",
    "tic = time.time()\n",
    "loss_vectorized, grad_vectorized = softmax_loss_vectorized(W, X_dev, y_dev, 0.000005)\n",
    "toc = time.time()\n",
    "print('vectorized loss: %e computed in %fs' % (loss_vectorized, toc - tic))\n",
    "\n",
    "# As we did for the SVM, we use the Frobenius norm to compare the two versions\n",
    "# of the gradient.\n",
    "grad_difference = np.linalg.norm(grad_naive - grad_vectorized, ord='fro')\n",
    "print('Loss difference: %f' % np.abs(loss_naive - loss_vectorized))\n",
    "print('Gradient difference: %f' % grad_difference)"
   ]
  },
  {
   "cell_type": "code",
   "execution_count": 18,
   "metadata": {
    "collapsed": false
   },
   "outputs": [
    {
     "name": "stdout",
     "output_type": "stream",
     "text": [
      "iteration 0 / 2000: loss 6.417417\n",
      "iteration 100 / 2000: loss 4.036405\n",
      "iteration 200 / 2000: loss 3.930832\n",
      "iteration 300 / 2000: loss 3.327142\n",
      "iteration 400 / 2000: loss 3.109053\n",
      "iteration 500 / 2000: loss 3.290808\n",
      "iteration 600 / 2000: loss 3.014794\n",
      "iteration 700 / 2000: loss 2.727661\n",
      "iteration 800 / 2000: loss 2.961487\n",
      "iteration 900 / 2000: loss 2.850889\n",
      "iteration 1000 / 2000: loss 2.981534\n",
      "iteration 1100 / 2000: loss 2.650825\n",
      "iteration 1200 / 2000: loss 2.762196\n",
      "iteration 1300 / 2000: loss 2.652089\n",
      "iteration 1400 / 2000: loss 2.597191\n",
      "iteration 1500 / 2000: loss 2.506496\n",
      "iteration 1600 / 2000: loss 2.297043\n",
      "iteration 1700 / 2000: loss 2.377383\n",
      "iteration 1800 / 2000: loss 2.427919\n",
      "iteration 1900 / 2000: loss 2.412767\n",
      "iteration 0 / 2000: loss 6.016712\n",
      "iteration 100 / 2000: loss 3.793324\n",
      "iteration 200 / 2000: loss 3.837542\n",
      "iteration 300 / 2000: loss 3.510272\n",
      "iteration 400 / 2000: loss 2.998883\n",
      "iteration 500 / 2000: loss 3.269500\n",
      "iteration 600 / 2000: loss 2.986451\n",
      "iteration 700 / 2000: loss 2.928364\n",
      "iteration 800 / 2000: loss 2.647447\n",
      "iteration 900 / 2000: loss 3.106903\n",
      "iteration 1000 / 2000: loss 2.811675\n",
      "iteration 1100 / 2000: loss 2.578241\n",
      "iteration 1200 / 2000: loss 2.721818\n",
      "iteration 1300 / 2000: loss 2.671061\n",
      "iteration 1400 / 2000: loss 2.403584\n",
      "iteration 1500 / 2000: loss 2.650353\n",
      "iteration 1600 / 2000: loss 2.393092\n",
      "iteration 1700 / 2000: loss 2.304549\n",
      "iteration 1800 / 2000: loss 2.380667\n",
      "iteration 1900 / 2000: loss 2.586503\n",
      "iteration 0 / 2000: loss 6.166506\n",
      "iteration 100 / 2000: loss 2.715834\n",
      "iteration 200 / 2000: loss 2.691753\n",
      "iteration 300 / 2000: loss 2.655713\n",
      "iteration 400 / 2000: loss 2.304733\n",
      "iteration 500 / 2000: loss 2.240843\n",
      "iteration 600 / 2000: loss 2.278736\n",
      "iteration 700 / 2000: loss 2.251157\n",
      "iteration 800 / 2000: loss 2.167061\n",
      "iteration 900 / 2000: loss 2.324633\n",
      "iteration 1000 / 2000: loss 2.259799\n",
      "iteration 1100 / 2000: loss 2.310715\n",
      "iteration 1200 / 2000: loss 2.230886\n",
      "iteration 1300 / 2000: loss 2.079769\n",
      "iteration 1400 / 2000: loss 2.036690\n",
      "iteration 1500 / 2000: loss 2.048501\n",
      "iteration 1600 / 2000: loss 2.091727\n",
      "iteration 1700 / 2000: loss 2.080594\n",
      "iteration 1800 / 2000: loss 2.124507\n",
      "iteration 1900 / 2000: loss 2.235463\n",
      "iteration 0 / 2000: loss 5.373870\n",
      "iteration 100 / 2000: loss 2.844899\n",
      "iteration 200 / 2000: loss 2.695823\n",
      "iteration 300 / 2000: loss 2.579210\n",
      "iteration 400 / 2000: loss 2.940537\n",
      "iteration 500 / 2000: loss 2.479011\n",
      "iteration 600 / 2000: loss 2.206698\n",
      "iteration 700 / 2000: loss 2.369727\n",
      "iteration 800 / 2000: loss 2.294856\n",
      "iteration 900 / 2000: loss 2.250008\n",
      "iteration 1000 / 2000: loss 2.230478\n",
      "iteration 1100 / 2000: loss 2.284538\n",
      "iteration 1200 / 2000: loss 2.283245\n",
      "iteration 1300 / 2000: loss 2.043678\n",
      "iteration 1400 / 2000: loss 2.273367\n",
      "iteration 1500 / 2000: loss 2.021522\n",
      "iteration 1600 / 2000: loss 2.211108\n",
      "iteration 1700 / 2000: loss 2.039907\n",
      "iteration 1800 / 2000: loss 2.190221\n",
      "iteration 1900 / 2000: loss 2.118769\n",
      "lr 1.000000e-07 reg 2.500000e+04 train accuracy: 0.262082 val accuracy: 0.259000\n",
      "lr 1.000000e-07 reg 5.000000e+04 train accuracy: 0.261020 val accuracy: 0.276000\n",
      "lr 5.000000e-07 reg 2.500000e+04 train accuracy: 0.332837 val accuracy: 0.333000\n",
      "lr 5.000000e-07 reg 5.000000e+04 train accuracy: 0.331612 val accuracy: 0.321000\n",
      "best validation accuracy achieved during cross-validation: 0.333000\n"
     ]
    }
   ],
   "source": [
    "# Use the validation set to tune hyperparameters (regularization strength and\n",
    "# learning rate). You should experiment with different ranges for the learning\n",
    "# rates and regularization strengths; if you are careful you should be able to\n",
    "# get a classification accuracy of over 0.35 on the validation set.\n",
    "from cs231n.classifiers import Softmax\n",
    "results = {}\n",
    "best_val = -1\n",
    "best_softmax = None\n",
    "learning_rates = [2.5e-8, 5e-8, 7.5e-8, 1e-7]\n",
    "regularization_strengths = [2e4, 2.5e4, 3e4, 3.5e4, 4e4]\n",
    "\n",
    "################################################################################\n",
    "# TODO:                                                                        #\n",
    "# Use the validation set to set the learning rate and regularization strength. #\n",
    "# This should be identical to the validation that you did for the SVM; save    #\n",
    "# the best trained softmax classifer in best_softmax.                          #\n",
    "################################################################################\n",
    "import itertools\n",
    "for lr, reg in itertools.product(learning_rates, regularization_strengths):\n",
    "    classifier = Softmax()\n",
    "    loss_hist = classifier.train(X_train, y_train, learning_rate=lr, reg=reg,\n",
    "                          num_iters=3000, verbose=True)\n",
    "    \n",
    "    y_train_pred = classifier.predict(X_train)\n",
    "    train_acc = np.mean(y_train == y_train_pred)\n",
    "    \n",
    "    y_val_pred = classifier.predict(X_val)\n",
    "    val_acc = np.mean(y_val == y_val_pred)\n",
    "    \n",
    "    results[(lr, reg)] = (train_acc, val_acc)\n",
    "    \n",
    "    if val_acc > best_val:\n",
    "        best_val = val_acc\n",
    "        best_softmax = classifier\n",
    "################################################################################\n",
    "#                              END OF YOUR CODE                                #\n",
    "################################################################################\n",
    "    \n",
    "# Print out results.\n",
    "for lr, reg in sorted(results):\n",
    "    train_accuracy, val_accuracy = results[(lr, reg)]\n",
    "    print('lr %e reg %e train accuracy: %f val accuracy: %f' % (\n",
    "                lr, reg, train_accuracy, val_accuracy))\n",
    "    \n",
    "print('best validation accuracy achieved during cross-validation: %f' % best_val)"
   ]
  },
  {
   "cell_type": "code",
   "execution_count": 19,
   "metadata": {
    "collapsed": false
   },
   "outputs": [
    {
     "name": "stdout",
     "output_type": "stream",
     "text": [
      "softmax on raw pixels final test set accuracy: 0.310000\n"
     ]
    }
   ],
   "source": [
    "# evaluate on test set\n",
    "# Evaluate the best softmax on test set\n",
    "y_test_pred = best_softmax.predict(X_test)\n",
    "test_accuracy = np.mean(y_test == y_test_pred)\n",
    "print('softmax on raw pixels final test set accuracy: %f' % (test_accuracy, ))"
   ]
  },
  {
   "cell_type": "code",
   "execution_count": 20,
   "metadata": {
    "collapsed": false
   },
   "outputs": [
    {
     "data": {
      "image/png": "[encoded data removed]",
      "text/plain": [
       "<matplotlib.figure.Figure at 0x1175cb860>"
      ]
     },
     "metadata": {},
     "output_type": "display_data"
    }
   ],
   "source": [
    "# Visualize the learned weights for each class\n",
    "w = best_softmax.W[:-1,:] # strip out the bias\n",
    "w = w.reshape(32, 32, 3, 10)\n",
    "\n",
    "w_min, w_max = np.min(w), np.max(w)\n",
    "\n",
    "classes = ['plane', 'car', 'bird', 'cat', 'deer', 'dog', 'frog', 'horse', 'ship', 'truck']\n",
    "for i in range(10):\n",
    "    plt.subplot(2, 5, i + 1)\n",
    "    \n",
    "    # Rescale the weights to be between 0 and 255\n",
    "    wimg = 255.0 * (w[:, :, :, i].squeeze() - w_min) / (w_max - w_min)\n",
    "    plt.imshow(wimg.astype('uint8'))\n",
    "    plt.axis('off')\n",
    "    plt.title(classes[i])"
   ]
  }
 ],
 "metadata": {
  "kernelspec": {
   "display_name": "Python (local)",
   "language": "python",
   "name": "envname"
  },
  "language_info": {
   "codemirror_mode": {
    "name": "ipython",
    "version": 3
   },
   "file_extension": ".py",
   "mimetype": "text/x-python",
   "name": "python",
   "nbconvert_exporter": "python",
   "pygments_lexer": "ipython3",
   "version": "3.6.1"
  }
 },
 "nbformat": 4,
 "nbformat_minor": 0
}
